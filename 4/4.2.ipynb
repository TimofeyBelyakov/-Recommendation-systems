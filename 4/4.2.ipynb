{
 "cells": [
  {
   "cell_type": "code",
   "execution_count": 1,
   "metadata": {},
   "outputs": [],
   "source": [
    "import re\n",
    "import random\n",
    "\n",
    "dataFile = '1.txt'\n",
    "maxIndividuals = 200\n",
    "lines = open(dataFile, 'r').readlines()\n",
    "maxVW = [float(value) for value in re.split(r'\\s', lines[0]) if value]\n",
    "goods = []\n",
    "minValue = 10000\n",
    "for i in range(1, len(lines)):\n",
    "    good = [float(value) for value in re.split(r'\\s', lines[i]) if value]\n",
    "    goods.append(good)\n",
    "    if(minValue > good[2]):\n",
    "        minValue = good[2]"
   ]
  },
  {
   "cell_type": "markdown",
   "metadata": {},
   "source": [
    "Функция генерации начальной популяции:"
   ]
  },
  {
   "cell_type": "code",
   "execution_count": 2,
   "metadata": {},
   "outputs": [],
   "source": [
    "def GeneratePopulation(maxVW, goods, maxInd):\n",
    "    individuals = []\n",
    "    countGoods = len(goods)\n",
    "    for i in range(0, maxInd):\n",
    "        zeros = [0 for _ in range(0, countGoods)]\n",
    "        individuals.append(zeros)\n",
    "        rnd = random.randint(0, countGoods - 1)\n",
    "        sumW = 0\n",
    "        sumV = 0\n",
    "        for j in range(rnd, countGoods):\n",
    "            sumW = sumW + goods[j][0]\n",
    "            sumV = sumV + goods[j][1]\n",
    "            if((maxVW[0] >= sumW) & (maxVW[1] >= sumV)):\n",
    "                individuals[i][j] = 1\n",
    "            else:\n",
    "                break\n",
    "    return individuals"
   ]
  },
  {
   "cell_type": "markdown",
   "metadata": {},
   "source": [
    "Функция отбора особей для скрещивания:"
   ]
  },
  {
   "cell_type": "code",
   "execution_count": 3,
   "metadata": {},
   "outputs": [],
   "source": [
    "def SelectIndividuals(population, goods, maxInd):\n",
    "    SortIndividuals(population, maxVW, goods)\n",
    "    countSelectedInd = int(0.2 * maxInd)\n",
    "    selectedInd = []\n",
    "    for i in range(0, countSelectedInd):\n",
    "        selectedInd.append(population[i])\n",
    "    return selectedInd"
   ]
  },
  {
   "cell_type": "markdown",
   "metadata": {},
   "source": [
    "Сортировка особей по приспособленности:"
   ]
  },
  {
   "cell_type": "code",
   "execution_count": 4,
   "metadata": {},
   "outputs": [],
   "source": [
    "def SortIndividuals(population, maxVW, goods):\n",
    "    for i in range(0, len(population) - 1):\n",
    "        for j in range(0, len(population) - 1):\n",
    "            if (GetIndividualValue(population[j], goods) < GetIndividualValue(population[j + 1], goods)):\n",
    "                temp = population[j]\n",
    "                population[j] = population[j + 1]\n",
    "                population[j + 1] = temp   \n",
    "    for i in range(0, len(population) - 1):\n",
    "        for j in range(0, len(population) - 1):\n",
    "            if ((CheckIndividual(population[j], maxVW, goods) == False) & \n",
    "                (CheckIndividual(population[j + 1], maxVW, goods) == True)):\n",
    "                temp = population[j]\n",
    "                population[j] = population[j + 1]\n",
    "                population[j + 1] = temp  "
   ]
  },
  {
   "cell_type": "markdown",
   "metadata": {},
   "source": [
    "Функция подсчёта приспособленности особи:"
   ]
  },
  {
   "cell_type": "code",
   "execution_count": 5,
   "metadata": {},
   "outputs": [],
   "source": [
    "def GetIndividualValue(individual, goods):\n",
    "    value = 0\n",
    "    for i in range(0, len(individual)):\n",
    "        if (individual[i] == 1):\n",
    "            value = value + goods[i][2]\n",
    "    return value"
   ]
  },
  {
   "cell_type": "markdown",
   "metadata": {},
   "source": [
    "Функция скрещивания особей:"
   ]
  },
  {
   "cell_type": "code",
   "execution_count": 6,
   "metadata": {},
   "outputs": [],
   "source": [
    "def CrossIndividuals(individuals):\n",
    "    random.shuffle(individuals)\n",
    "    halfInd = int(len(individuals) / 2)\n",
    "    offspring = []\n",
    "    for i in range(0, halfInd):\n",
    "        offspring.append(GetOffspring(individuals[i], individuals[i + halfInd]))\n",
    "        offspring.append(GetOffspring(individuals[i], individuals[i + halfInd]))\n",
    "    return offspring"
   ]
  },
  {
   "cell_type": "markdown",
   "metadata": {},
   "source": [
    "Функция, дающая потомство:"
   ]
  },
  {
   "cell_type": "code",
   "execution_count": 7,
   "metadata": {},
   "outputs": [],
   "source": [
    "def GetOffspring(parent1, parent2):\n",
    "    child = []\n",
    "    for i in range(0, len(parent1)):\n",
    "        rnd = random.randint(1, 2)\n",
    "        if(rnd == 1):\n",
    "            child.append(parent1[i])\n",
    "        else:\n",
    "            child.append(parent2[i])\n",
    "    return child"
   ]
  },
  {
   "cell_type": "markdown",
   "metadata": {},
   "source": [
    "Функция мутации:"
   ]
  },
  {
   "cell_type": "code",
   "execution_count": 8,
   "metadata": {},
   "outputs": [],
   "source": [
    "def SetMutation(individuals):\n",
    "    rnd = random.randint(0, len(individuals) - 1)\n",
    "    for i in range(0, len(individuals[rnd])):\n",
    "        if(individuals[rnd][i] == 0):\n",
    "            individuals[rnd][i] == 1\n",
    "        else:\n",
    "            individuals[rnd][i] == 0"
   ]
  },
  {
   "cell_type": "markdown",
   "metadata": {},
   "source": [
    "Функция формирования новой популяции:"
   ]
  },
  {
   "cell_type": "code",
   "execution_count": 9,
   "metadata": {},
   "outputs": [],
   "source": [
    "def SetNewPopulation(parents, offspring, goods):\n",
    "    SortIndividuals(parents, maxVW, goods)\n",
    "    SortIndividuals(offspring, maxVW, goods)\n",
    "    percent = int(0.2 * len(parents))\n",
    "    j = 0\n",
    "    for i in range(len(parents) - 1, len(parents) - percent - 1, -1): \n",
    "        parents[i] = offspring[j]\n",
    "        j += 1"
   ]
  },
  {
   "cell_type": "markdown",
   "metadata": {},
   "source": [
    "Функция проверки особи:"
   ]
  },
  {
   "cell_type": "code",
   "execution_count": 10,
   "metadata": {},
   "outputs": [],
   "source": [
    "def CheckIndividual(individual, maxVW, goods):\n",
    "    check = True\n",
    "    sumW = 0\n",
    "    sumV = 0\n",
    "    for i in range(0, len(individual)):\n",
    "        if(individual[i] == 1):\n",
    "            sumW += goods[i][0]\n",
    "            sumV += goods[i][1]\n",
    "    if((maxVW[0] < sumW) | (maxVW[1] < sumV)):\n",
    "        check = False\n",
    "    return check"
   ]
  },
  {
   "cell_type": "markdown",
   "metadata": {},
   "source": [
    "Функция поиска лучшей особи:"
   ]
  },
  {
   "cell_type": "code",
   "execution_count": 11,
   "metadata": {},
   "outputs": [],
   "source": [
    "def FindBestInd(population, maxVW, goods):\n",
    "    bestInd = [0 for _ in range(0, len(population[0]))]\n",
    "    for i in range(0, len(population)):\n",
    "        if(CheckIndividual(population[i], maxVW, goods) & \n",
    "           (GetIndividualValue(population[i], goods) > GetIndividualValue(bestInd, goods))):\n",
    "            bestInd = population[i]\n",
    "    return bestInd"
   ]
  },
  {
   "cell_type": "code",
   "execution_count": 12,
   "metadata": {},
   "outputs": [
    {
     "name": "stdout",
     "output_type": "stream",
     "text": [
      "Best individual: 3736.0\n"
     ]
    }
   ],
   "source": [
    "population = GeneratePopulation(maxVW, goods, maxIndividuals) \n",
    "    #for item in population:\n",
    "        #print(item)\n",
    "    #bestIndInOriginPop = GetIndividualValue(FindBestInd(population, maxVW, goods), goods)\n",
    "for _ in range(0, 500):\n",
    "    bestInd = FindBestInd(population, maxVW, goods)\n",
    "    selected = SelectIndividuals(population, goods, maxIndividuals)\n",
    "    offspring = CrossIndividuals(selected)\n",
    "    SetMutation(offspring)\n",
    "    bestIndOff = FindBestInd(offspring, maxVW, goods)\n",
    "    SetNewPopulation(population, offspring, goods)\n",
    "    if(abs(GetIndividualValue(bestInd, goods) - GetIndividualValue(bestIndOff, goods)) <= minValue):\n",
    "            break\n",
    "result = GetIndividualValue(FindBestInd(population, maxVW, goods), goods)\n",
    "print(\"Best individual:\", result)"
   ]
  },
  {
   "cell_type": "code",
   "execution_count": 13,
   "metadata": {},
   "outputs": [],
   "source": [
    "#SortIndividuals(population, maxVW, goods)\n",
    "#for item in population:\n",
    "    #print(CheckIndividual(item, maxVW, goods))\n",
    "    #print(GetIndividualValue(item, goods))"
   ]
  },
  {
   "cell_type": "code",
   "execution_count": null,
   "metadata": {},
   "outputs": [],
   "source": []
  }
 ],
 "metadata": {
  "kernelspec": {
   "display_name": "Python 3",
   "language": "python",
   "name": "python3"
  },
  "language_info": {
   "codemirror_mode": {
    "name": "ipython",
    "version": 3
   },
   "file_extension": ".py",
   "mimetype": "text/x-python",
   "name": "python",
   "nbconvert_exporter": "python",
   "pygments_lexer": "ipython3",
   "version": "3.7.4"
  }
 },
 "nbformat": 4,
 "nbformat_minor": 4
}
