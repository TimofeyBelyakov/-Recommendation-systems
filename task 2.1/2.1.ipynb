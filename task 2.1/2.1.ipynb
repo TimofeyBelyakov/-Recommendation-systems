{
 "cells": [
  {
   "cell_type": "code",
   "execution_count": 1,
   "metadata": {},
   "outputs": [
    {
     "name": "stdout",
     "output_type": "stream",
     "text": [
      " Movie 1    -1\n",
      " Movie 2     4\n",
      " Movie 3     1\n",
      " Movie 4     5\n",
      " Movie 5    -1\n",
      " Movie 6    -1\n",
      " Movie 7    -1\n",
      " Movie 8     1\n",
      " Movie 9     3\n",
      " Movie 10   -1\n",
      " Movie 11    5\n",
      " Movie 12    5\n",
      " Movie 13    1\n",
      " Movie 14    3\n",
      " Movie 15    3\n",
      " Movie 16    3\n",
      " Movie 17   -1\n",
      " Movie 18    4\n",
      " Movie 19    2\n",
      " Movie 20    2\n",
      " Movie 21    2\n",
      " Movie 22    4\n",
      " Movie 23   -1\n",
      " Movie 24   -1\n",
      " Movie 25    3\n",
      " Movie 26    4\n",
      " Movie 27   -1\n",
      " Movie 28    2\n",
      " Movie 29    4\n",
      " Movie 30    1\n",
      "Name: User 1, dtype: int64\n"
     ]
    }
   ],
   "source": [
    "import pandas as pd\n",
    "import math as m\n",
    "import json\n",
    "import numpy as np\n",
    "\n",
    "user = 1\n",
    "index_user = user - 1\n",
    "negOne = -1\n",
    "k = 4\n",
    "\n",
    "data = pd.read_csv(\"data.csv\", index_col = 0)\n",
    "print(data.iloc[index_user])"
   ]
  },
  {
   "cell_type": "markdown",
   "metadata": {},
   "source": [
    "Функция подсчёта среднего у user:"
   ]
  },
  {
   "cell_type": "code",
   "execution_count": 2,
   "metadata": {},
   "outputs": [],
   "source": [
    "def MeanUser(data, index):\n",
    "    count = 0\n",
    "    sum = 0\n",
    "    for item in data.iloc[index]:\n",
    "        if(item != negOne):\n",
    "            sum += item\n",
    "            count += 1\n",
    "    return sum / count"
   ]
  },
  {
   "cell_type": "markdown",
   "metadata": {},
   "source": [
    "Функция, которая ищет k user'ов, у которых есть оценка для фильма:"
   ]
  },
  {
   "cell_type": "code",
   "execution_count": 3,
   "metadata": {},
   "outputs": [],
   "source": [
    "def FindUsers(data, index_film, k):\n",
    "    ind_users = []\n",
    "    for i in range(1, k + 1):\n",
    "        if(data.iloc[i][index_film] != negOne):\n",
    "            ind_users.append(i)\n",
    "    return ind_users"
   ]
  },
  {
   "cell_type": "markdown",
   "metadata": {},
   "source": [
    "Функция расчёта метрики косинуса sim:"
   ]
  },
  {
   "cell_type": "code",
   "execution_count": 4,
   "metadata": {},
   "outputs": [],
   "source": [
    "def sim(data, index1, index2):\n",
    "    col1 = data.iloc[index1]\n",
    "    col2 = data.iloc[index2]\n",
    "    count = len(col1)\n",
    "    sumUp = 0\n",
    "    sumDown1 = 0\n",
    "    sumDown2 = 0\n",
    "    for i in range(0, count):\n",
    "        if((col1[i] != negOne) & (col2[i] != negOne)):\n",
    "            sumUp = sumUp + col1[i] * col2[i]\n",
    "            sumDown1 = sumDown1 + col1[i] * col1[i]\n",
    "            sumDown2 = sumDown2 + col2[i] * col2[i]\n",
    "    return sumUp / ((sumDown1 ** .5) * (sumDown2 ** .5))"
   ]
  },
  {
   "cell_type": "markdown",
   "metadata": {},
   "source": [
    "Задание 1:"
   ]
  },
  {
   "cell_type": "markdown",
   "metadata": {},
   "source": [
    "Высчитаем метрики для пар - наш пользователь со всеми остальными:"
   ]
  },
  {
   "cell_type": "code",
   "execution_count": 5,
   "metadata": {},
   "outputs": [],
   "source": [
    "l = []\n",
    "for i in range(0, len(data)):  \n",
    "    l.append(sim(data, index_user, i))"
   ]
  },
  {
   "cell_type": "markdown",
   "metadata": {},
   "source": [
    "Отсортируем пользователей по метрике:"
   ]
  },
  {
   "cell_type": "code",
   "execution_count": 6,
   "metadata": {},
   "outputs": [],
   "source": [
    "dataCopy = data.copy()\n",
    "for i in range(1, len(dataCopy)):\n",
    "    for j in range(0, len(dataCopy) - i):\n",
    "        if(l[j] < l[j + 1]):\n",
    "            a, b = dataCopy.iloc[j, :].copy(), dataCopy.iloc[j+1, :].copy()\n",
    "            dataCopy.iloc[j, :], dataCopy.iloc[j+1, :] = b, a\n",
    "            t = l[j]\n",
    "            l[j] = l[j+1]\n",
    "            l[j+1]=t"
   ]
  },
  {
   "cell_type": "markdown",
   "metadata": {},
   "source": [
    "Высчитаем оценки:"
   ]
  },
  {
   "cell_type": "code",
   "execution_count": 7,
   "metadata": {},
   "outputs": [
    {
     "data": {
      "text/plain": [
       "{'movie 1': 3.968,\n",
       " 'movie 5': 2.712,\n",
       " 'movie 6': 3.093,\n",
       " 'movie 7': 3.714,\n",
       " 'movie 10': 2.228,\n",
       " 'movie 17': 1.458,\n",
       " 'movie 23': 2.712,\n",
       " 'movie 24': 2.975,\n",
       " 'movie 27': 3.096}"
      ]
     },
     "execution_count": 7,
     "metadata": {},
     "output_type": "execute_result"
    }
   ],
   "source": [
    "dictMarks = {}\n",
    "meanRightUser = MeanUser(dataCopy, 0)\n",
    "for i in range(0, len(dataCopy.columns)):\n",
    "    if(dataCopy.iloc[0][i] == negOne):\n",
    "        index_users = FindUsers(dataCopy, i, k)\n",
    "        sumSim = 0\n",
    "        sumSimAbs = 0\n",
    "        for item in index_users:\n",
    "            #tempSim = sim(data, 0, index_users[j])\n",
    "            tempSim = l[item]\n",
    "            sumSim = sumSim + tempSim * (dataCopy.iloc[item][i] - MeanUser(dataCopy, item))\n",
    "            sumSimAbs = sumSimAbs + m.fabs(tempSim)\n",
    "        dictMarks.update({\"movie \" + str(i+1) : round(meanRightUser + (sumSim / sumSimAbs), 3)})\n",
    "dictMarks"
   ]
  },
  {
   "cell_type": "markdown",
   "metadata": {},
   "source": [
    "Задание 2:"
   ]
  },
  {
   "cell_type": "code",
   "execution_count": 8,
   "metadata": {},
   "outputs": [],
   "source": [
    "dataDays = pd.read_csv(\"context_day.csv\", index_col = 0).T\n",
    "dataPlaces = pd.read_csv(\"context_place.csv\", index_col = 0).T\n",
    "\n",
    "weeknd1 = \"Sat\"\n",
    "weeknd2 = \"Sun\"\n",
    "home = \"h\""
   ]
  },
  {
   "cell_type": "markdown",
   "metadata": {},
   "source": [
    "Функция подсчёта средней оценки у фильма:"
   ]
  },
  {
   "cell_type": "code",
   "execution_count": 9,
   "metadata": {},
   "outputs": [],
   "source": [
    "def MeanFilm(data, index_film):\n",
    "    data = data.T\n",
    "    sum = 0\n",
    "    count = 0\n",
    "    for mark in data.iloc[index_film]:\n",
    "        if(mark != negOne):\n",
    "            sum += mark\n",
    "            count +=1\n",
    "    return sum / count"
   ]
  },
  {
   "cell_type": "markdown",
   "metadata": {},
   "source": [
    "Функция подсчёта процента посмотревших на выходных:"
   ]
  },
  {
   "cell_type": "code",
   "execution_count": 10,
   "metadata": {},
   "outputs": [],
   "source": [
    "def PercWeekends(data, index_film):\n",
    "    watchedOnWeekend = 0\n",
    "    watchedTotal = 0\n",
    "    for mark in data.iloc[index_film]:\n",
    "        mark = mark.strip(' ')\n",
    "        if(mark != str(negOne)):\n",
    "            watchedTotal += 1\n",
    "            if((mark == weeknd1) | (mark == weeknd2)):\n",
    "                watchedOnWeekend += 1\n",
    "    return watchedOnWeekend / watchedTotal"
   ]
  },
  {
   "cell_type": "markdown",
   "metadata": {},
   "source": [
    "Функция подсчёта процента посмотревших дома:"
   ]
  },
  {
   "cell_type": "code",
   "execution_count": 11,
   "metadata": {},
   "outputs": [],
   "source": [
    "def PercHome(data, index_film):\n",
    "    watchedHome = 0\n",
    "    watchedTotal = 0\n",
    "    for mark in data.iloc[index_film]:\n",
    "        mark = mark.strip(' ')\n",
    "        if(mark != str(negOne)):\n",
    "            watchedTotal += 1\n",
    "            if(mark == home):\n",
    "                watchedHome += 1\n",
    "    return watchedHome / watchedTotal"
   ]
  },
  {
   "cell_type": "markdown",
   "metadata": {},
   "source": [
    "Функция поиска фильмов:"
   ]
  },
  {
   "cell_type": "code",
   "execution_count": 12,
   "metadata": {},
   "outputs": [],
   "source": [
    "def FindFilms(data, index_user):\n",
    "    l = []\n",
    "    d = data.iloc[index_user]\n",
    "    for i in range(0, len(d)):\n",
    "        if(d[i] == negOne):\n",
    "            l.append(i)\n",
    "    return l"
   ]
  },
  {
   "cell_type": "markdown",
   "metadata": {},
   "source": [
    "Расчёт оценки - ср. знач. * % посмотревших в выходные * % посмотревших дома:"
   ]
  },
  {
   "cell_type": "markdown",
   "metadata": {},
   "source": [
    "Причём оценки будут лежать в диапазоне от 0 до 5: 2 * 0.0% * 0.0% - худший вариант и 5 * 1.0% * 1.0% - лучший"
   ]
  },
  {
   "cell_type": "code",
   "execution_count": 13,
   "metadata": {},
   "outputs": [
    {
     "name": "stdout",
     "output_type": "stream",
     "text": [
      "[0.279296875, 0.44999571330589844, 0.12486992715920915, 0.2261856299613271, 0.3109607164665174, 0.26825179088553575, 0.27520576131687247, 0.33984375, 0.23842592592592593]\n",
      "{'movie 5': 0.45}\n"
     ]
    }
   ],
   "source": [
    "def BestFilm(d, dDays, dPlaces, index_user):\n",
    "    l = []\n",
    "    films = FindFilms(d, index_user)\n",
    "    for index in films:\n",
    "        l.append(MeanFilm(d, index) * PercWeekends(dDays, index) * PercHome(dPlaces, index))  \n",
    "    print(l)\n",
    "    film = {'movie ' + str(int(films[l.index(max(l))]) + 1) : round(max(l), 3)}\n",
    "    return film\n",
    "\n",
    "bestFilm = BestFilm(data, dataDays, dataPlaces, index_user)\n",
    "print(bestFilm)"
   ]
  },
  {
   "cell_type": "code",
   "execution_count": 14,
   "metadata": {},
   "outputs": [
    {
     "name": "stdout",
     "output_type": "stream",
     "text": [
      "{'user': 1, '1': {'movie 1': 3.968, 'movie 5': 2.712, 'movie 6': 3.093, 'movie 7': 3.714, 'movie 10': 2.228, 'movie 17': 1.458, 'movie 23': 2.712, 'movie 24': 2.975, 'movie 27': 3.096}, '2': {'movie 5': 0.45}}\n"
     ]
    }
   ],
   "source": [
    "answer = {\"user\": user, \"1\": dictMarks, \"2\": bestFilm}\n",
    "print(answer)"
   ]
  },
  {
   "cell_type": "code",
   "execution_count": 15,
   "metadata": {},
   "outputs": [],
   "source": [
    "with open('answer.json', 'w', encoding = 'utf-8') as f:\n",
    "    json.dump(answer, f, ensure_ascii = False, indent = 4)"
   ]
  },
  {
   "cell_type": "code",
   "execution_count": null,
   "metadata": {},
   "outputs": [],
   "source": []
  }
 ],
 "metadata": {
  "kernelspec": {
   "display_name": "Python 3",
   "language": "python",
   "name": "python3"
  },
  "language_info": {
   "codemirror_mode": {
    "name": "ipython",
    "version": 3
   },
   "file_extension": ".py",
   "mimetype": "text/x-python",
   "name": "python",
   "nbconvert_exporter": "python",
   "pygments_lexer": "ipython3",
   "version": "3.7.4"
  }
 },
 "nbformat": 4,
 "nbformat_minor": 4
}
