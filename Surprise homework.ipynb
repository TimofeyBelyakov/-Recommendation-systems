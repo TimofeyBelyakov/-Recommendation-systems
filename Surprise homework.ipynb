{
 "cells": [
  {
   "cell_type": "markdown",
   "metadata": {},
   "source": [
    "# Surprise homework"
   ]
  },
  {
   "cell_type": "code",
   "execution_count": 1,
   "metadata": {},
   "outputs": [],
   "source": [
    "import io \n",
    "from collections import defaultdict\n",
    "\n",
    "import pandas as pd\n",
    "from surprise import Dataset\n",
    "from surprise import SVD\n",
    "from surprise import NormalPredictor\n",
    "from surprise import KNNWithMeans\n",
    "from surprise import accuracy\n",
    "from surprise.model_selection import cross_validate\n",
    "\n",
    "from surprise.model_selection import train_test_split"
   ]
  },
  {
   "cell_type": "markdown",
   "metadata": {},
   "source": [
    "### Functions"
   ]
  },
  {
   "cell_type": "code",
   "execution_count": 2,
   "metadata": {},
   "outputs": [],
   "source": [
    "# используйте полезные функции из FAQ\n",
    "def get_top_n(predictions, n=5):\n",
    "    \"\"\"Return the top-N recommendation for each user from a set of predictions.\n",
    "\n",
    "    Args:\n",
    "        predictions(list of Prediction objects): The list of predictions, as\n",
    "            returned by the test method of an algorithm.\n",
    "        n(int): The number of recommendation to output for each user. Default\n",
    "            is 10.\n",
    "\n",
    "    Returns:\n",
    "    A dict where keys are user (raw) ids and values are lists of tuples:\n",
    "        [(raw item id, rating estimation), ...] of size n.\n",
    "    \"\"\"\n",
    "\n",
    "    # First map the predictions to each user.\n",
    "    top_n = defaultdict(list)\n",
    "    for uid, iid, true_r, est, _ in predictions:\n",
    "        top_n[uid].append((iid, est))\n",
    "\n",
    "    # Then sort the predictions for each user and retrieve the k highest ones.\n",
    "    for uid, user_ratings in top_n.items():\n",
    "        user_ratings.sort(key=lambda x: x[1], reverse=True)\n",
    "        top_n[uid] = user_ratings[:n]\n",
    "\n",
    "    return top_n\n",
    "\n",
    "def precision_recall_at_k(predictions, k=5, threshold=3.52):\n",
    "    \"\"\"Return precision and recall at k metrics for each user\"\"\"\n",
    "\n",
    "    # First map the predictions to each user.\n",
    "    user_est_true = defaultdict(list)\n",
    "    for uid, _, true_r, est, _ in predictions:\n",
    "        user_est_true[uid].append((est, true_r))\n",
    "\n",
    "    precisions = dict()\n",
    "    recalls = dict()\n",
    "    for uid, user_ratings in user_est_true.items():\n",
    "\n",
    "        # Sort user ratings by estimated value\n",
    "        user_ratings.sort(key=lambda x: x[0], reverse=True)\n",
    "\n",
    "        # Number of relevant items\n",
    "        n_rel = sum((true_r >= threshold) for (_, true_r) in user_ratings)\n",
    "\n",
    "        # Number of recommended items in top k\n",
    "        n_rec_k = sum((est >= threshold) for (est, _) in user_ratings[:k])\n",
    "\n",
    "        # Number of relevant and recommended items in top k\n",
    "        n_rel_and_rec_k = sum(((true_r >= threshold) and (est >= threshold))\n",
    "                              for (est, true_r) in user_ratings[:k])\n",
    "\n",
    "        # Precision@K: Proportion of recommended items that are relevant\n",
    "        # When n_rec_k is 0, Precision is undefined. We here set it to 0.\n",
    "\n",
    "        precisions[uid] = n_rel_and_rec_k / n_rec_k if n_rec_k != 0 else 0\n",
    "\n",
    "        # Recall@K: Proportion of relevant items that are recommended\n",
    "        # When n_rel is 0, Recall is undefined. We here set it to 0.\n",
    "\n",
    "        recalls[uid] = n_rel_and_rec_k / n_rel if n_rel != 0 else 0\n",
    "\n",
    "    return pd.Series(precisions).mean(), pd.Series(recalls).mean()"
   ]
  },
  {
   "cell_type": "markdown",
   "metadata": {},
   "source": [
    "### Load data"
   ]
  },
  {
   "cell_type": "code",
   "execution_count": 3,
   "metadata": {},
   "outputs": [
    {
     "data": {
      "text/plain": [
       "<surprise.dataset.DatasetAutoFolds at 0x217d0e17e88>"
      ]
     },
     "execution_count": 3,
     "metadata": {},
     "output_type": "execute_result"
    }
   ],
   "source": [
    "data = Dataset.load_builtin('ml-100k')\n",
    "data"
   ]
  },
  {
   "cell_type": "markdown",
   "metadata": {},
   "source": [
    "### Define algorithms"
   ]
  },
  {
   "cell_type": "code",
   "execution_count": 4,
   "metadata": {},
   "outputs": [],
   "source": [
    "# внимательно изучите документацию по метрикам и алгоритмам\n",
    "algoNorm = NormalPredictor()\n",
    "\n",
    "sim_options = {'name': 'cosine', 'user_based': True}\n",
    "algoCos = KNNWithMeans(sim_options=sim_options)\n",
    "\n",
    "sim_options = {'name': 'msd', 'user_based': True}\n",
    "algoMSD = KNNWithMeans(im_options=sim_options)\n",
    "\n",
    "sim_options = {'name': 'pearson', 'user_based': True}\n",
    "algoPearson = KNNWithMeans(sim_options=sim_options)\n",
    "\n",
    "algoSVD = SVD()"
   ]
  },
  {
   "cell_type": "markdown",
   "metadata": {},
   "source": [
    "### Select algorithm"
   ]
  },
  {
   "cell_type": "code",
   "execution_count": 5,
   "metadata": {},
   "outputs": [
    {
     "name": "stdout",
     "output_type": "stream",
     "text": [
      "Evaluating RMSE of algorithm NormalPredictor on 5 split(s).\n",
      "\n",
      "                  Fold 1  Fold 2  Fold 3  Fold 4  Fold 5  Mean    Std     \n",
      "RMSE (testset)    1.5199  1.5287  1.5167  1.5233  1.5205  1.5218  0.0040  \n",
      "Fit time          0.21    0.22    0.23    0.22    0.25    0.23    0.01    \n",
      "Test time         0.25    0.29    0.24    0.30    0.27    0.27    0.02    \n"
     ]
    },
    {
     "data": {
      "text/plain": [
       "{'test_rmse': array([1.51986826, 1.52872023, 1.51671042, 1.52334935, 1.52046452]),\n",
       " 'fit_time': (0.21299505233764648,\n",
       "  0.22063922882080078,\n",
       "  0.22925543785095215,\n",
       "  0.22224116325378418,\n",
       "  0.2521946430206299),\n",
       " 'test_time': (0.25333428382873535,\n",
       "  0.29030442237854004,\n",
       "  0.23680830001831055,\n",
       "  0.30280303955078125,\n",
       "  0.26595211029052734)}"
      ]
     },
     "execution_count": 5,
     "metadata": {},
     "output_type": "execute_result"
    }
   ],
   "source": [
    "cross_validate(algoNorm, data, measures=['RMSE'], cv=5, verbose=True)"
   ]
  },
  {
   "cell_type": "code",
   "execution_count": 6,
   "metadata": {},
   "outputs": [
    {
     "name": "stdout",
     "output_type": "stream",
     "text": [
      "Computing the cosine similarity matrix...\n",
      "Done computing similarity matrix.\n",
      "Computing the cosine similarity matrix...\n",
      "Done computing similarity matrix.\n",
      "Computing the cosine similarity matrix...\n",
      "Done computing similarity matrix.\n",
      "Computing the cosine similarity matrix...\n",
      "Done computing similarity matrix.\n",
      "Computing the cosine similarity matrix...\n",
      "Done computing similarity matrix.\n",
      "Evaluating RMSE of algorithm KNNWithMeans on 5 split(s).\n",
      "\n",
      "                  Fold 1  Fold 2  Fold 3  Fold 4  Fold 5  Mean    Std     \n",
      "RMSE (testset)    0.9615  0.9575  0.9498  0.9496  0.9564  0.9550  0.0046  \n",
      "Fit time          2.67    2.79    3.66    3.37    3.00    3.10    0.37    \n",
      "Test time         6.34    6.45    8.14    9.08    9.29    7.86    1.26    \n"
     ]
    },
    {
     "data": {
      "text/plain": [
       "{'test_rmse': array([0.96153086, 0.95745649, 0.94981036, 0.9496224 , 0.95643475]),\n",
       " 'fit_time': (2.6702208518981934,\n",
       "  2.792437791824341,\n",
       "  3.6598093509674072,\n",
       "  3.372833728790283,\n",
       "  3.000225067138672),\n",
       " 'test_time': (6.338767766952515,\n",
       "  6.451610088348389,\n",
       "  8.144773483276367,\n",
       "  9.081602573394775,\n",
       "  9.288647890090942)}"
      ]
     },
     "execution_count": 6,
     "metadata": {},
     "output_type": "execute_result"
    }
   ],
   "source": [
    "cross_validate(algoCos, data, measures=['RMSE'], cv=5, verbose=True)"
   ]
  },
  {
   "cell_type": "code",
   "execution_count": 7,
   "metadata": {},
   "outputs": [
    {
     "name": "stdout",
     "output_type": "stream",
     "text": [
      "Computing the msd similarity matrix...\n",
      "Done computing similarity matrix.\n",
      "Computing the msd similarity matrix...\n",
      "Done computing similarity matrix.\n",
      "Computing the msd similarity matrix...\n",
      "Done computing similarity matrix.\n",
      "Computing the msd similarity matrix...\n",
      "Done computing similarity matrix.\n",
      "Computing the msd similarity matrix...\n",
      "Done computing similarity matrix.\n",
      "Evaluating RMSE of algorithm KNNWithMeans on 5 split(s).\n",
      "\n",
      "                  Fold 1  Fold 2  Fold 3  Fold 4  Fold 5  Mean    Std     \n",
      "RMSE (testset)    0.9512  0.9444  0.9538  0.9528  0.9526  0.9510  0.0034  \n",
      "Fit time          1.70    0.89    0.92    1.16    0.92    1.12    0.31    \n",
      "Test time         9.27    6.69    7.00    6.67    6.88    7.30    0.99    \n"
     ]
    },
    {
     "data": {
      "text/plain": [
       "{'test_rmse': array([0.95117656, 0.94440351, 0.95377776, 0.95277482, 0.95263688]),\n",
       " 'fit_time': (1.7018496990203857,\n",
       "  0.8933818340301514,\n",
       "  0.9242129325866699,\n",
       "  1.1573352813720703,\n",
       "  0.9240150451660156),\n",
       " 'test_time': (9.273337364196777,\n",
       "  6.6918041706085205,\n",
       "  6.998839378356934,\n",
       "  6.6679792404174805,\n",
       "  6.8802690505981445)}"
      ]
     },
     "execution_count": 7,
     "metadata": {},
     "output_type": "execute_result"
    }
   ],
   "source": [
    "cross_validate(algoMSD, data, measures=['RMSE'], cv=5, verbose=True)"
   ]
  },
  {
   "cell_type": "code",
   "execution_count": 8,
   "metadata": {},
   "outputs": [
    {
     "name": "stdout",
     "output_type": "stream",
     "text": [
      "Computing the pearson similarity matrix...\n",
      "Done computing similarity matrix.\n",
      "Computing the pearson similarity matrix...\n",
      "Done computing similarity matrix.\n",
      "Computing the pearson similarity matrix...\n",
      "Done computing similarity matrix.\n",
      "Computing the pearson similarity matrix...\n",
      "Done computing similarity matrix.\n",
      "Computing the pearson similarity matrix...\n",
      "Done computing similarity matrix.\n",
      "Evaluating RMSE of algorithm KNNWithMeans on 5 split(s).\n",
      "\n",
      "                  Fold 1  Fold 2  Fold 3  Fold 4  Fold 5  Mean    Std     \n",
      "RMSE (testset)    0.9513  0.9502  0.9535  0.9448  0.9433  0.9486  0.0039  \n",
      "Fit time          3.50    3.38    3.30    3.37    3.31    3.37    0.07    \n",
      "Test time         7.00    6.35    6.67    7.11    6.57    6.74    0.28    \n"
     ]
    },
    {
     "data": {
      "text/plain": [
       "{'test_rmse': array([0.95126424, 0.95016787, 0.95350142, 0.94478219, 0.94333238]),\n",
       " 'fit_time': (3.503183126449585,\n",
       "  3.38485050201416,\n",
       "  3.29801344871521,\n",
       "  3.371081590652466,\n",
       "  3.3067855834960938),\n",
       " 'test_time': (6.999757528305054,\n",
       "  6.350005865097046,\n",
       "  6.673359394073486,\n",
       "  7.114450454711914,\n",
       "  6.5724005699157715)}"
      ]
     },
     "execution_count": 8,
     "metadata": {},
     "output_type": "execute_result"
    }
   ],
   "source": [
    "cross_validate(algoPearson, data, measures=['RMSE'], cv=5, verbose=True)"
   ]
  },
  {
   "cell_type": "code",
   "execution_count": 9,
   "metadata": {},
   "outputs": [
    {
     "name": "stdout",
     "output_type": "stream",
     "text": [
      "Evaluating RMSE of algorithm SVD on 5 split(s).\n",
      "\n",
      "                  Fold 1  Fold 2  Fold 3  Fold 4  Fold 5  Mean    Std     \n",
      "RMSE (testset)    0.9331  0.9354  0.9467  0.9388  0.9251  0.9358  0.0071  \n",
      "Fit time          8.86    8.60    8.77    8.31    8.39    8.59    0.21    \n",
      "Test time         0.22    0.31    0.31    0.24    0.33    0.28    0.05    \n"
     ]
    },
    {
     "data": {
      "text/plain": [
       "{'test_rmse': array([0.93305745, 0.93543967, 0.94671381, 0.93876967, 0.925051  ]),\n",
       " 'fit_time': (8.863641262054443,\n",
       "  8.595730304718018,\n",
       "  8.770361423492432,\n",
       "  8.311644077301025,\n",
       "  8.392230749130249),\n",
       " 'test_time': (0.2173633575439453,\n",
       "  0.3116447925567627,\n",
       "  0.3147110939025879,\n",
       "  0.2399890422821045,\n",
       "  0.32941579818725586)}"
      ]
     },
     "execution_count": 9,
     "metadata": {},
     "output_type": "execute_result"
    }
   ],
   "source": [
    "cross_validate(algoSVD, data, measures=['RMSE'], cv=5, verbose=True)"
   ]
  },
  {
   "cell_type": "markdown",
   "metadata": {},
   "source": [
    "### Calculate precision@k and recall@k"
   ]
  },
  {
   "cell_type": "code",
   "execution_count": 10,
   "metadata": {},
   "outputs": [
    {
     "name": "stdout",
     "output_type": "stream",
     "text": [
      "(0.7283315659243549, 0.35982176379396313)\n"
     ]
    }
   ],
   "source": [
    "trainset, testset = train_test_split(data, test_size=.25)\n",
    "algoSVD.fit(trainset)\n",
    "predictions = algoSVD.test(testset)\n",
    "\n",
    "print(precision_recall_at_k(predictions))"
   ]
  },
  {
   "cell_type": "markdown",
   "metadata": {},
   "source": [
    "### Predict"
   ]
  },
  {
   "cell_type": "code",
   "execution_count": 11,
   "metadata": {},
   "outputs": [],
   "source": [
    "# обратите внимание на функцию build_anti_testset\n",
    "user = '1'\n",
    "user_predict = get_top_n(predictions)[user]"
   ]
  },
  {
   "cell_type": "code",
   "execution_count": 12,
   "metadata": {},
   "outputs": [],
   "source": [
    "item_path = '/Users/Admin/.surprise_data/ml-100k/ml-100k/u.item'\n",
    "item_df = pd.read_csv(item_path, sep='|',encoding='ISO-8859-1', header = None, index_col = 0)"
   ]
  },
  {
   "cell_type": "code",
   "execution_count": 13,
   "metadata": {},
   "outputs": [
    {
     "name": "stdout",
     "output_type": "stream",
     "text": [
      "User 1\n",
      "50 ('Star Wars (1977)', '01-Jan-1977') 4.734\n",
      "114 ('Wallace & Gromit: The Best of Aardman Animation (1996)', '05-Apr-1996') 4.591\n",
      "151 ('Willy Wonka and the Chocolate Factory (1971)', '01-Jan-1971') 4.59\n",
      "173 ('Princess Bride, The (1987)', '01-Jan-1987') 4.538\n",
      "228 ('Star Trek: The Wrath of Khan (1982)', '01-Jan-1982') 4.497\n"
     ]
    }
   ],
   "source": [
    "print(\"User \" + user)\n",
    "for item in user_predict:\n",
    "    film = item_df.loc[int(item[0])][1]\n",
    "    date = item_df.loc[int(item[0])][2]\n",
    "    print(item[0] + \" ('\" + film + \"', '\" + date + \"') \" + str(round(item[1], 3)))"
   ]
  },
  {
   "cell_type": "code",
   "execution_count": null,
   "metadata": {},
   "outputs": [],
   "source": []
  }
 ],
 "metadata": {
  "kernelspec": {
   "display_name": "Python 3",
   "language": "python",
   "name": "python3"
  },
  "language_info": {
   "codemirror_mode": {
    "name": "ipython",
    "version": 3
   },
   "file_extension": ".py",
   "mimetype": "text/x-python",
   "name": "python",
   "nbconvert_exporter": "python",
   "pygments_lexer": "ipython3",
   "version": "3.7.4"
  }
 },
 "nbformat": 4,
 "nbformat_minor": 2
}
